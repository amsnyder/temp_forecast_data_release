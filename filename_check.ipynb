{
 "cells": [
  {
   "cell_type": "code",
   "execution_count": null,
   "metadata": {},
   "outputs": [],
   "source": [
    "import os"
   ]
  },
  {
   "cell_type": "code",
   "execution_count": 5,
   "metadata": {},
   "outputs": [
    {
     "name": "stdout",
     "output_type": "stream",
     "text": [
      "['.\\\\data\\\\test_r.csv', '.\\\\data\\\\hoop\\\\test_r.csv', '.\\\\data\\\\hoop\\\\wow\\\\test_r.csv']\n"
     ]
    }
   ],
   "source": [
    "# iterate through all files\n",
    "dirName = os.path.join('.', 'data')\n",
    "listOfFiles = list()\n",
    "for (dirpath, dirnames, filenames) in os.walk(dirName):\n",
    "    listOfFiles += [os.path.join(dirpath, file) for file in filenames]\n",
    "\n",
    "print(listOfFiles)"
   ]
  },
  {
   "cell_type": "code",
   "execution_count": 7,
   "metadata": {},
   "outputs": [],
   "source": [
    "bad_chars = ['-', '+', '=', '!', '@', '#', '$', '%', '^', '&', '*', '?', '/', '\\\\', '<', '>', '{', '}', '|', '`', \"'\", '”', ',']\n",
    "for fn in listOfFiles:\n",
    "    for char in bad_chars:\n",
    "        if char in os.path.basename(fn):\n",
    "            print(f'bad char ({char}) in file: {fn}')"
   ]
  },
  {
   "cell_type": "code",
   "execution_count": null,
   "metadata": {},
   "outputs": [],
   "source": []
  }
 ],
 "metadata": {
  "interpreter": {
   "hash": "93bb868ee395f88541cccfc78795be08b4b8b083014934c53784270e2e46b53e"
  },
  "kernelspec": {
   "display_name": "Python 3.8.12 ('geopy38')",
   "language": "python",
   "name": "python3"
  },
  "language_info": {
   "codemirror_mode": {
    "name": "ipython",
    "version": 3
   },
   "file_extension": ".py",
   "mimetype": "text/x-python",
   "name": "python",
   "nbconvert_exporter": "python",
   "pygments_lexer": "ipython3",
   "version": "3.8.12"
  },
  "orig_nbformat": 4
 },
 "nbformat": 4,
 "nbformat_minor": 2
}
