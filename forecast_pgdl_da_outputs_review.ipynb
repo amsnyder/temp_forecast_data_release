{
 "cells": [
  {
   "cell_type": "code",
   "execution_count": 1,
   "id": "a25c67bd-e580-47b5-94f5-3aa577b2a9a9",
   "metadata": {},
   "outputs": [],
   "source": [
    "import os"
   ]
  },
  {
   "cell_type": "code",
   "execution_count": 14,
   "id": "e6e0122c-c1a3-4385-b2a5-3eb65d5682d3",
   "metadata": {},
   "outputs": [],
   "source": [
    "zipped_list = os.listdir('/caldera/projects/usgs/water/iidd/datasci/data_releases/forecast-data-release-v2/out_data')"
   ]
  },
  {
   "cell_type": "code",
   "execution_count": 15,
   "id": "694802f5-8762-4744-901e-0fb35fba7b54",
   "metadata": {},
   "outputs": [],
   "source": [
    "unzip_list = os.listdir('/caldera/projects/usgs/water/iidd/datasci/data_releases/forecast-data-release-v2/in_data/PGDL-DA')"
   ]
  },
  {
   "cell_type": "code",
   "execution_count": 16,
   "id": "29575c4e-a787-423a-a91d-134bc5a3a180",
   "metadata": {},
   "outputs": [
    {
     "data": {
      "text/plain": [
       "['reservoir_io_obs.csv',\n",
       " 'forecast_pgdl_da_outputs_lstm_DA.zip',\n",
       " 'forecast_pgdl_da_outputs_rgcn_persistence.zip',\n",
       " 'dwallin_stream_preds.csv.zip',\n",
       " 'forecast_pgdl_da_outputs_lstm_no_DA.zip',\n",
       " 'noaagefs_meteo_driver_files.zip',\n",
       " 'paired_predicted_observed_temperatures.csv',\n",
       " 'study_stream_reaches.zip',\n",
       " 'reservoir_downstream_preds.csv',\n",
       " 'forecast_pgdl_da_outputs_rgcn_no_DA.zip',\n",
       " 'reservoir_nml_values_json_tst.json',\n",
       " 'reservoir_nml_files.zip',\n",
       " 'dwallin_stream_preds_csv.zip',\n",
       " 'reservoir_nml_files_tst.zip',\n",
       " 'forecast_pgdl_da_outputs_lstm_persistence.zip',\n",
       " 'reservoir_io_sntemp.csv',\n",
       " 'reservoir_nml_values.json',\n",
       " 'forecast_pgdl_da_outputs.zip',\n",
       " 'forecast_pgdl_da_outputs_rgcn_DA.zip',\n",
       " 'study_reservoirs.zip']"
      ]
     },
     "execution_count": 16,
     "metadata": {},
     "output_type": "execute_result"
    }
   ],
   "source": [
    "zipped_list"
   ]
  },
  {
   "cell_type": "code",
   "execution_count": 32,
   "id": "062b6905-ec0a-4d0c-a04c-27c50f7543ee",
   "metadata": {},
   "outputs": [],
   "source": [
    "#big_data_files = ['forecast_pgdl_da_outputs_lstm_persistence', 'forecast_pgdl_da_outputs_rgcn_persistence', 'forecast_pgdl_da_outputs_lstm_no_DA', 'forecast_pgdl_da_outputs_rgc,_no_DA', 'forecast_pgdl_da_outputs_lstm_DA', 'forecast_pgdl_da_outputs_rgc,_DA']\n",
    "big_data_files = ['lstm_persistence', 'rgcn_persistence', 'lstm_no_DA', 'rgcn_no_DA', 'lstm_DA', 'rgcn_DA']"
   ]
  },
  {
   "cell_type": "code",
   "execution_count": 34,
   "id": "7b35c495-e673-417a-ba77-6ab3fa8ae815",
   "metadata": {},
   "outputs": [],
   "source": [
    "big_data_files_dict = {}\n",
    "for subcat in big_data_files:\n",
    "    flist = []\n",
    "    for f in unzip_list:\n",
    "        if subcat in f:\n",
    "            flist.append(f)\n",
    "    big_data_files_dict[subcat] = flist"
   ]
  },
  {
   "cell_type": "code",
   "execution_count": 44,
   "id": "1d5fb1e4-5060-43da-b4d3-466b47bc27b5",
   "metadata": {},
   "outputs": [
    {
     "name": "stdout",
     "output_type": "stream",
     "text": [
      "lstm_persistence: 50\n",
      "rgcn_persistence: 52\n",
      "lstm_no_DA: 50\n",
      "rgcn_no_DA: 52\n",
      "lstm_DA: 50\n",
      "rgcn_DA: 52\n"
     ]
    }
   ],
   "source": [
    "for key in big_data_files_dict.keys():\n",
    "    sublist = big_data_files_dict[key]\n",
    "    sublist.sort()\n",
    "    print(f'{key}: ' + str(len(sublist)))"
   ]
  },
  {
   "cell_type": "code",
   "execution_count": 45,
   "id": "8476510c-e54b-4b66-946a-a9b4ffb38272",
   "metadata": {},
   "outputs": [
    {
     "data": {
      "text/plain": [
       "['d7a411f8-9806-11ed-a407-a4bf0141b204_rgcn_persistence_GMM_0_VAL_forecast.nc',\n",
       " 'd7a411f8-9806-11ed-a407-a4bf0141b204_rgcn_persistence_GMM_0_VAL_forecast.xml',\n",
       " 'd7a411f8-9806-11ed-a407-a4bf0141b204_rgcn_persistence_GMM_1_VAL_forecast.nc',\n",
       " 'd7a411f8-9806-11ed-a407-a4bf0141b204_rgcn_persistence_GMM_1_VAL_forecast.xml',\n",
       " 'd7a411f8-9806-11ed-a407-a4bf0141b204_rgcn_persistence_GMM_2_VAL_forecast.nc',\n",
       " 'd7a411f8-9806-11ed-a407-a4bf0141b204_rgcn_persistence_GMM_2_VAL_forecast.xml',\n",
       " 'd7a411f8-9806-11ed-a407-a4bf0141b204_rgcn_persistence_GMM_3_VAL_forecast.nc',\n",
       " 'd7a411f8-9806-11ed-a407-a4bf0141b204_rgcn_persistence_GMM_3_VAL_forecast.xml',\n",
       " 'd7a411f8-9806-11ed-a407-a4bf0141b204_rgcn_persistence_GMM_4_VAL_forecast.nc',\n",
       " 'd7a411f8-9806-11ed-a407-a4bf0141b204_rgcn_persistence_GMM_4_VAL_forecast.xml',\n",
       " 'd7a4120c-9806-11ed-a407-a4bf0141b204_rgcn_persistence_GMM_0_VAL_forecast.nc',\n",
       " 'd7a4120c-9806-11ed-a407-a4bf0141b204_rgcn_persistence_GMM_0_VAL_forecast.xml',\n",
       " 'd7a4120c-9806-11ed-a407-a4bf0141b204_rgcn_persistence_GMM_1_VAL_forecast.nc',\n",
       " 'd7a4120c-9806-11ed-a407-a4bf0141b204_rgcn_persistence_GMM_1_VAL_forecast.xml',\n",
       " 'd7a4120c-9806-11ed-a407-a4bf0141b204_rgcn_persistence_GMM_2_VAL_forecast.nc',\n",
       " 'd7a4120c-9806-11ed-a407-a4bf0141b204_rgcn_persistence_GMM_2_VAL_forecast.xml',\n",
       " 'd7a4120c-9806-11ed-a407-a4bf0141b204_rgcn_persistence_GMM_3_VAL_forecast.nc',\n",
       " 'd7a4120c-9806-11ed-a407-a4bf0141b204_rgcn_persistence_GMM_3_VAL_forecast.xml',\n",
       " 'd7a4120c-9806-11ed-a407-a4bf0141b204_rgcn_persistence_GMM_4_VAL_forecast.nc',\n",
       " 'd7a4120c-9806-11ed-a407-a4bf0141b204_rgcn_persistence_GMM_4_VAL_forecast.xml',\n",
       " 'd7a4120d-9806-11ed-a407-a4bf0141b204_rgcn_persistence_GMM_0_VAL_forecast.nc',\n",
       " 'd7a4120d-9806-11ed-a407-a4bf0141b204_rgcn_persistence_GMM_0_VAL_forecast.xml',\n",
       " 'd7a4120d-9806-11ed-a407-a4bf0141b204_rgcn_persistence_GMM_1_VAL_forecast.nc',\n",
       " 'd7a4120d-9806-11ed-a407-a4bf0141b204_rgcn_persistence_GMM_1_VAL_forecast.xml',\n",
       " 'd7a4120d-9806-11ed-a407-a4bf0141b204_rgcn_persistence_GMM_2_VAL_forecast.nc',\n",
       " 'd7a4120d-9806-11ed-a407-a4bf0141b204_rgcn_persistence_GMM_2_VAL_forecast.xml',\n",
       " 'd7a4120d-9806-11ed-a407-a4bf0141b204_rgcn_persistence_GMM_3_VAL_forecast.nc',\n",
       " 'd7a4120d-9806-11ed-a407-a4bf0141b204_rgcn_persistence_GMM_3_VAL_forecast.xml',\n",
       " 'd7a4120d-9806-11ed-a407-a4bf0141b204_rgcn_persistence_GMM_4_VAL_forecast.nc',\n",
       " 'd7a4120d-9806-11ed-a407-a4bf0141b204_rgcn_persistence_GMM_4_VAL_forecast.xml',\n",
       " 'd7a41216-9806-11ed-a407-a4bf0141b204_rgcn_persistence_GMM_0_VAL_forecast.nc',\n",
       " 'd7a41216-9806-11ed-a407-a4bf0141b204_rgcn_persistence_GMM_0_VAL_forecast.xml',\n",
       " 'd7a41216-9806-11ed-a407-a4bf0141b204_rgcn_persistence_GMM_1_VAL_forecast.nc',\n",
       " 'd7a41216-9806-11ed-a407-a4bf0141b204_rgcn_persistence_GMM_1_VAL_forecast.xml',\n",
       " 'd7a41216-9806-11ed-a407-a4bf0141b204_rgcn_persistence_GMM_2_VAL_forecast.nc',\n",
       " 'd7a41216-9806-11ed-a407-a4bf0141b204_rgcn_persistence_GMM_2_VAL_forecast.xml',\n",
       " 'd7a41216-9806-11ed-a407-a4bf0141b204_rgcn_persistence_GMM_3_VAL_forecast.nc',\n",
       " 'd7a41216-9806-11ed-a407-a4bf0141b204_rgcn_persistence_GMM_3_VAL_forecast.xml',\n",
       " 'd7a41216-9806-11ed-a407-a4bf0141b204_rgcn_persistence_GMM_4_VAL_forecast.nc',\n",
       " 'd7a41216-9806-11ed-a407-a4bf0141b204_rgcn_persistence_GMM_4_VAL_forecast.xml',\n",
       " 'd7a41217-9806-11ed-a407-a4bf0141b204_rgcn_persistence_GMM_0_VAL_forecast.nc',\n",
       " 'd7a41217-9806-11ed-a407-a4bf0141b204_rgcn_persistence_GMM_0_VAL_forecast.xml',\n",
       " 'd7a41217-9806-11ed-a407-a4bf0141b204_rgcn_persistence_GMM_1_VAL_forecast.nc',\n",
       " 'd7a41217-9806-11ed-a407-a4bf0141b204_rgcn_persistence_GMM_1_VAL_forecast.xml',\n",
       " 'd7a41217-9806-11ed-a407-a4bf0141b204_rgcn_persistence_GMM_2_VAL_forecast.nc',\n",
       " 'd7a41217-9806-11ed-a407-a4bf0141b204_rgcn_persistence_GMM_2_VAL_forecast.xml',\n",
       " 'd7a41217-9806-11ed-a407-a4bf0141b204_rgcn_persistence_GMM_3_VAL_forecast.nc',\n",
       " 'd7a41217-9806-11ed-a407-a4bf0141b204_rgcn_persistence_GMM_3_VAL_forecast.xml',\n",
       " 'd7a41217-9806-11ed-a407-a4bf0141b204_rgcn_persistence_GMM_4_VAL_forecast.nc',\n",
       " 'd7a41217-9806-11ed-a407-a4bf0141b204_rgcn_persistence_GMM_4_VAL_forecast.xml',\n",
       " 'd7a41220-9806-11ed-a407-a4bf0141b204_rgcn_persistence_GMM_4_TEST_forecast.nc',\n",
       " 'd7a41220-9806-11ed-a407-a4bf0141b204_rgcn_persistence_GMM_4_TEST_forecast.xml']"
      ]
     },
     "execution_count": 45,
     "metadata": {},
     "output_type": "execute_result"
    }
   ],
   "source": [
    "big_data_files_dict[big_data_files[1]]"
   ]
  },
  {
   "cell_type": "code",
   "execution_count": 48,
   "id": "df80b537-d671-42c9-b7f2-cac99623ee0a",
   "metadata": {},
   "outputs": [],
   "source": [
    "sample_nc = big_data_files_dict[big_data_files[1]][0]\n",
    "sample_xml = big_data_files_dict[big_data_files[1]][1]"
   ]
  },
  {
   "cell_type": "code",
   "execution_count": null,
   "id": "6d131c13-97b6-44f9-98f0-1229db7b0d72",
   "metadata": {},
   "outputs": [],
   "source": []
  }
 ],
 "metadata": {
  "kernelspec": {
   "display_name": "conda:hytest",
   "language": "python",
   "name": "conda-hytest"
  },
  "language_info": {
   "codemirror_mode": {
    "name": "ipython",
    "version": 3
   },
   "file_extension": ".py",
   "mimetype": "text/x-python",
   "name": "python",
   "nbconvert_exporter": "python",
   "pygments_lexer": "ipython3",
   "version": "3.9.13"
  }
 },
 "nbformat": 4,
 "nbformat_minor": 5
}
