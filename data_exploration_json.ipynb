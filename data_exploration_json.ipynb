{
 "cells": [
  {
   "cell_type": "code",
   "execution_count": 3,
   "metadata": {},
   "outputs": [],
   "source": [
    "import pandas as pd\n",
    "import numpy as np"
   ]
  },
  {
   "cell_type": "code",
   "execution_count": 6,
   "metadata": {},
   "outputs": [
    {
     "name": "stdout",
     "output_type": "stream",
     "text": [
      "13\n"
     ]
    },
    {
     "data": {
      "text/html": [
       "<div>\n",
       "<style scoped>\n",
       "    .dataframe tbody tr th:only-of-type {\n",
       "        vertical-align: middle;\n",
       "    }\n",
       "\n",
       "    .dataframe tbody tr th {\n",
       "        vertical-align: top;\n",
       "    }\n",
       "\n",
       "    .dataframe thead th {\n",
       "        text-align: right;\n",
       "    }\n",
       "</style>\n",
       "<table border=\"1\" class=\"dataframe\">\n",
       "  <thead>\n",
       "    <tr style=\"text-align: right;\">\n",
       "      <th></th>\n",
       "      <th>nhdhr_151957878</th>\n",
       "      <th>nhdhr_120022743</th>\n",
       "    </tr>\n",
       "  </thead>\n",
       "  <tbody>\n",
       "    <tr>\n",
       "      <th>site_id</th>\n",
       "      <td>nhdhr_151957878</td>\n",
       "      <td>nhdhr_120022743</td>\n",
       "    </tr>\n",
       "    <tr>\n",
       "      <th>cd</th>\n",
       "      <td>0.0014</td>\n",
       "      <td>0.001398</td>\n",
       "    </tr>\n",
       "    <tr>\n",
       "      <th>longitude</th>\n",
       "      <td>-74.85719</td>\n",
       "      <td>-75.30163</td>\n",
       "    </tr>\n",
       "    <tr>\n",
       "      <th>latitude</th>\n",
       "      <td>42.09106</td>\n",
       "      <td>42.09674</td>\n",
       "    </tr>\n",
       "    <tr>\n",
       "      <th>bsn_wid</th>\n",
       "      <td>5432.168</td>\n",
       "      <td>4930.446</td>\n",
       "    </tr>\n",
       "    <tr>\n",
       "      <th>bsn_len</th>\n",
       "      <td>5432.168</td>\n",
       "      <td>4930.446</td>\n",
       "    </tr>\n",
       "    <tr>\n",
       "      <th>lake_depth</th>\n",
       "      <td>60.62472</td>\n",
       "      <td>48.7619</td>\n",
       "    </tr>\n",
       "    <tr>\n",
       "      <th>max_layer_thick</th>\n",
       "      <td>1.5</td>\n",
       "      <td>1.5</td>\n",
       "    </tr>\n",
       "    <tr>\n",
       "      <th>min_layer_thick</th>\n",
       "      <td>0.2</td>\n",
       "      <td>0.2</td>\n",
       "    </tr>\n",
       "    <tr>\n",
       "      <th>meteo_fl</th>\n",
       "      <td>NLDAS_time[0.379366]_x[401]_y[136].csv</td>\n",
       "      <td>NLDAS_time[0.379366]_x[397]_y[136].csv</td>\n",
       "    </tr>\n",
       "  </tbody>\n",
       "</table>\n",
       "</div>"
      ],
      "text/plain": [
       "                                        nhdhr_151957878  \\\n",
       "site_id                                 nhdhr_151957878   \n",
       "cd                                               0.0014   \n",
       "longitude                                     -74.85719   \n",
       "latitude                                       42.09106   \n",
       "bsn_wid                                        5432.168   \n",
       "bsn_len                                        5432.168   \n",
       "lake_depth                                     60.62472   \n",
       "max_layer_thick                                     1.5   \n",
       "min_layer_thick                                     0.2   \n",
       "meteo_fl         NLDAS_time[0.379366]_x[401]_y[136].csv   \n",
       "\n",
       "                                        nhdhr_120022743  \n",
       "site_id                                 nhdhr_120022743  \n",
       "cd                                             0.001398  \n",
       "longitude                                     -75.30163  \n",
       "latitude                                       42.09674  \n",
       "bsn_wid                                        4930.446  \n",
       "bsn_len                                        4930.446  \n",
       "lake_depth                                      48.7619  \n",
       "max_layer_thick                                     1.5  \n",
       "min_layer_thick                                     0.2  \n",
       "meteo_fl         NLDAS_time[0.379366]_x[397]_y[136].csv  "
      ]
     },
     "execution_count": 6,
     "metadata": {},
     "output_type": "execute_result"
    }
   ],
   "source": [
    "category = 'model configurations'\n",
    "fn = 'reservoir_nml_values.json'\n",
    "\n",
    "table_loc = os.path.join('.', 'data', category, fn) \n",
    "df = pd.read_json(table_loc)\n",
    "print(len(df))\n",
    "df.head(10)"
   ]
  },
  {
   "cell_type": "code",
   "execution_count": 164,
   "metadata": {},
   "outputs": [],
   "source": [
    "# check leap years\n",
    "#leap years: 2020, 2016, 2012, \n",
    "#date_col = 'time'\n",
    "#df[pd.to_datetime(df[date_col]).dt.year ==2016].iloc[59:61]"
   ]
  },
  {
   "cell_type": "code",
   "execution_count": 43,
   "metadata": {},
   "outputs": [
    {
     "data": {
      "text/html": [
       "<div>\n",
       "<style scoped>\n",
       "    .dataframe tbody tr th:only-of-type {\n",
       "        vertical-align: middle;\n",
       "    }\n",
       "\n",
       "    .dataframe tbody tr th {\n",
       "        vertical-align: top;\n",
       "    }\n",
       "\n",
       "    .dataframe thead th {\n",
       "        text-align: right;\n",
       "    }\n",
       "</style>\n",
       "<table border=\"1\" class=\"dataframe\">\n",
       "  <thead>\n",
       "    <tr style=\"text-align: right;\">\n",
       "      <th></th>\n",
       "      <th>res_id</th>\n",
       "      <th>seg_id_nat</th>\n",
       "      <th>date</th>\n",
       "      <th>seg_outflow</th>\n",
       "      <th>seg_tave_water</th>\n",
       "      <th>direction</th>\n",
       "    </tr>\n",
       "  </thead>\n",
       "  <tbody>\n",
       "    <tr>\n",
       "      <th>0</th>\n",
       "      <td>nhdhr_120022743</td>\n",
       "      <td>1557</td>\n",
       "      <td>1979-01-01</td>\n",
       "      <td>1.982</td>\n",
       "      <td>3.20</td>\n",
       "      <td>inflow</td>\n",
       "    </tr>\n",
       "    <tr>\n",
       "      <th>31600</th>\n",
       "      <td>nhdhr_120022743</td>\n",
       "      <td>1566</td>\n",
       "      <td>1979-01-01</td>\n",
       "      <td>1.584</td>\n",
       "      <td>4.86</td>\n",
       "      <td>outflow</td>\n",
       "    </tr>\n",
       "    <tr>\n",
       "      <th>110600</th>\n",
       "      <td>nhdhr_151957878</td>\n",
       "      <td>1444</td>\n",
       "      <td>1979-01-01</td>\n",
       "      <td>2.536</td>\n",
       "      <td>5.51</td>\n",
       "      <td>outflow</td>\n",
       "    </tr>\n",
       "    <tr>\n",
       "      <th>47400</th>\n",
       "      <td>nhdhr_151957878</td>\n",
       "      <td>1437</td>\n",
       "      <td>1979-01-01</td>\n",
       "      <td>0.478</td>\n",
       "      <td>4.13</td>\n",
       "      <td>inflow</td>\n",
       "    </tr>\n",
       "    <tr>\n",
       "      <th>63200</th>\n",
       "      <td>nhdhr_151957878</td>\n",
       "      <td>1440</td>\n",
       "      <td>1979-01-01</td>\n",
       "      <td>0.661</td>\n",
       "      <td>4.51</td>\n",
       "      <td>inflow</td>\n",
       "    </tr>\n",
       "    <tr>\n",
       "      <th>...</th>\n",
       "      <td>...</td>\n",
       "      <td>...</td>\n",
       "      <td>...</td>\n",
       "      <td>...</td>\n",
       "      <td>...</td>\n",
       "      <td>...</td>\n",
       "    </tr>\n",
       "    <tr>\n",
       "      <th>47399</th>\n",
       "      <td>nhdhr_120022743</td>\n",
       "      <td>1566</td>\n",
       "      <td>2022-04-04</td>\n",
       "      <td>46.043</td>\n",
       "      <td>0.24</td>\n",
       "      <td>outflow</td>\n",
       "    </tr>\n",
       "    <tr>\n",
       "      <th>31599</th>\n",
       "      <td>nhdhr_120022743</td>\n",
       "      <td>1559</td>\n",
       "      <td>2022-04-04</td>\n",
       "      <td>1.256</td>\n",
       "      <td>0.38</td>\n",
       "      <td>inflow</td>\n",
       "    </tr>\n",
       "    <tr>\n",
       "      <th>15799</th>\n",
       "      <td>nhdhr_120022743</td>\n",
       "      <td>1557</td>\n",
       "      <td>2022-04-04</td>\n",
       "      <td>33.782</td>\n",
       "      <td>0.16</td>\n",
       "      <td>inflow</td>\n",
       "    </tr>\n",
       "    <tr>\n",
       "      <th>110599</th>\n",
       "      <td>nhdhr_151957878</td>\n",
       "      <td>1443</td>\n",
       "      <td>2022-04-04</td>\n",
       "      <td>2.326</td>\n",
       "      <td>0.00</td>\n",
       "      <td>inflow</td>\n",
       "    </tr>\n",
       "    <tr>\n",
       "      <th>126399</th>\n",
       "      <td>nhdhr_151957878</td>\n",
       "      <td>1444</td>\n",
       "      <td>2022-04-04</td>\n",
       "      <td>41.654</td>\n",
       "      <td>0.07</td>\n",
       "      <td>outflow</td>\n",
       "    </tr>\n",
       "  </tbody>\n",
       "</table>\n",
       "<p>126400 rows × 6 columns</p>\n",
       "</div>"
      ],
      "text/plain": [
       "                 res_id  seg_id_nat        date  seg_outflow  seg_tave_water  \\\n",
       "0       nhdhr_120022743        1557  1979-01-01        1.982            3.20   \n",
       "31600   nhdhr_120022743        1566  1979-01-01        1.584            4.86   \n",
       "110600  nhdhr_151957878        1444  1979-01-01        2.536            5.51   \n",
       "47400   nhdhr_151957878        1437  1979-01-01        0.478            4.13   \n",
       "63200   nhdhr_151957878        1440  1979-01-01        0.661            4.51   \n",
       "...                 ...         ...         ...          ...             ...   \n",
       "47399   nhdhr_120022743        1566  2022-04-04       46.043            0.24   \n",
       "31599   nhdhr_120022743        1559  2022-04-04        1.256            0.38   \n",
       "15799   nhdhr_120022743        1557  2022-04-04       33.782            0.16   \n",
       "110599  nhdhr_151957878        1443  2022-04-04        2.326            0.00   \n",
       "126399  nhdhr_151957878        1444  2022-04-04       41.654            0.07   \n",
       "\n",
       "       direction  \n",
       "0         inflow  \n",
       "31600    outflow  \n",
       "110600   outflow  \n",
       "47400     inflow  \n",
       "63200     inflow  \n",
       "...          ...  \n",
       "47399    outflow  \n",
       "31599     inflow  \n",
       "15799     inflow  \n",
       "110599    inflow  \n",
       "126399   outflow  \n",
       "\n",
       "[126400 rows x 6 columns]"
      ]
     },
     "execution_count": 43,
     "metadata": {},
     "output_type": "execute_result"
    }
   ],
   "source": [
    "#len(df)\n",
    "#df.replace([np.inf, -np.inf], np.nan).max().max()\n",
    "#df.min().min()\n",
    "df.sort_values('date')"
   ]
  },
  {
   "cell_type": "code",
   "execution_count": 20,
   "metadata": {},
   "outputs": [
    {
     "data": {
      "text/plain": [
       "time          object\n",
       "ShortWave    float64\n",
       "LongWave     float64\n",
       "AirTemp      float64\n",
       "RelHum       float64\n",
       "WindSpeed    float64\n",
       "Rain         float64\n",
       "Snow         float64\n",
       "dtype: object"
      ]
     },
     "metadata": {},
     "output_type": "display_data"
    }
   ],
   "source": [
    "display(df.dtypes)"
   ]
  },
  {
   "cell_type": "code",
   "execution_count": 39,
   "metadata": {},
   "outputs": [
    {
     "data": {
      "text/plain": [
       "39"
      ]
     },
     "execution_count": 39,
     "metadata": {},
     "output_type": "execute_result"
    }
   ],
   "source": [
    "#df.sort_values('date')\n",
    "len(df[df['min_temp_degC']>df['mean_temp_degC']])"
   ]
  },
  {
   "cell_type": "code",
   "execution_count": 41,
   "metadata": {},
   "outputs": [
    {
     "name": "stdout",
     "output_type": "stream",
     "text": [
      "checking column location\n",
      "unique values: ['outflow' 'inflow']\n",
      "outflow\n",
      "inflow\n"
     ]
    }
   ],
   "source": [
    "col = 'location'\n",
    "\n",
    "def check_whitespace(df, col):\n",
    "    unique_vals = df[col].unique()\n",
    "    for st in unique_vals:\n",
    "        if st==None:\n",
    "            continue\n",
    "        print(st)\n",
    "        if st.startswith(' '):\n",
    "            print(f'    bad string ({st})')\n",
    "        if st.endswith(' '):\n",
    "            print(f'    bad string ({st})')   \n",
    "\n",
    "def calc_metrics(df, col):\n",
    "    print(f'    min: {df[col].min()}')\n",
    "    print(f'    mean: {df[col].mean()}')\n",
    "    print(f'    max: {df[col].max()}')\n",
    "\n",
    "# Data do not have leading/trailing spaces or tabs.\n",
    "print(f'checking column {col}')\n",
    "# if type is string, check for whitespace\n",
    "if df.dtypes[col]=='O':\n",
    "    print(f'unique values: {df[col].unique()}')\n",
    "    check_whitespace(df, col)\n",
    "# if type is float, check min, max, mean\n",
    "elif df.dtypes[col]=='float64':\n",
    "    calc_metrics(df, col)"
   ]
  },
  {
   "cell_type": "code",
   "execution_count": null,
   "metadata": {},
   "outputs": [],
   "source": []
  }
 ],
 "metadata": {
  "kernelspec": {
   "display_name": "drb_estuary_salinity",
   "language": "python",
   "name": "python3"
  },
  "language_info": {
   "codemirror_mode": {
    "name": "ipython",
    "version": 3
   },
   "file_extension": ".py",
   "mimetype": "text/x-python",
   "name": "python",
   "nbconvert_exporter": "python",
   "pygments_lexer": "ipython3",
   "version": "3.7.6"
  },
  "orig_nbformat": 4,
  "vscode": {
   "interpreter": {
    "hash": "85ce4eb777a47250062e69db63a13ea88790b42e9bccd9f9c9a4eb5ac7d53107"
   }
  }
 },
 "nbformat": 4,
 "nbformat_minor": 2
}
