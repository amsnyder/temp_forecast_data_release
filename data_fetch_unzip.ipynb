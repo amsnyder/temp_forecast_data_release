{
 "cells": [
  {
   "cell_type": "code",
   "execution_count": 1,
   "metadata": {},
   "outputs": [
    {
     "data": {
      "text/plain": [
       "<sciencebasepy.SbSession.SbSession at 0x20fee8ae070>"
      ]
     },
     "execution_count": 1,
     "metadata": {},
     "output_type": "execute_result"
    }
   ],
   "source": [
    "import os\n",
    "import zipfile\n",
    "import sciencebasepy\n",
    "username = \"asnyder@usgs.gov\"\n",
    "sb = sciencebasepy.SbSession()\n",
    "sb.loginc(username)"
   ]
  },
  {
   "cell_type": "code",
   "execution_count": 2,
   "metadata": {},
   "outputs": [
    {
     "name": "stdout",
     "output_type": "stream",
     "text": [
      "['624f21b9d34e21f82769a7ab', '624f211ed34e21f82769a7a4', '624f21ddd34e21f82769a7af', '624f21fad34e21f82769a7b1']\n"
     ]
    }
   ],
   "source": [
    "parent_id = '6238fcead34e915b67cc4856'\n",
    "child_ids = sb.get_child_ids(parent_id)\n",
    "print(child_ids)"
   ]
  },
  {
   "cell_type": "markdown",
   "metadata": {},
   "source": [
    "Download all files attached to the ScienceBase item and place them in the destination folder"
   ]
  },
  {
   "cell_type": "code",
   "execution_count": 3,
   "metadata": {},
   "outputs": [
    {
     "name": "stdout",
     "output_type": "stream",
     "text": [
      "downloading https://www.sciencebase.gov/catalog/file/get/6238fcead34e915b67cc4856?f=__disk__7a%2F4e%2F83%2F7a4e83708c3f070d5da42ba29e16a052065fa3f4 to .\\data\\00_parent_fgdc_metadata.xml\n"
     ]
    },
    {
     "data": {
      "text/plain": [
       "[{'url': 'https://www.sciencebase.gov/catalog/file/get/6238fcead34e915b67cc4856?f=__disk__7a%2F4e%2F83%2F7a4e83708c3f070d5da42ba29e16a052065fa3f4',\n",
       "  'name': '00_parent_fgdc_metadata.xml',\n",
       "  'size': 12321,\n",
       "  'originalMetadata': True,\n",
       "  'contentType': 'application/fgdc+xml'}]"
      ]
     },
     "execution_count": 3,
     "metadata": {},
     "output_type": "execute_result"
    }
   ],
   "source": [
    "item_json=sb.get_item(parent_id)\n",
    "data_dir = os.path.join('.', 'data')\n",
    "os.makedirs(data_dir, exist_ok=True)\n",
    "sb.get_item_files(item_json, data_dir)"
   ]
  },
  {
   "cell_type": "code",
   "execution_count": 5,
   "metadata": {},
   "outputs": [
    {
     "name": "stdout",
     "output_type": "stream",
     "text": [
      "downloading https://www.sciencebase.gov/catalog/file/get/624f21b9d34e21f82769a7ab?f=__disk__07%2Ffb%2F54%2F07fb540573cea7cd07bb6d6ec107ff75ab900738 to .\\data\\model driver data\\02_drivers_fgdc_metadata.xml\n",
      "downloading https://www.sciencebase.gov/catalog/file/get/624f21b9d34e21f82769a7ab?f=__disk__2b%2F33%2F81%2F2b3381f5fc4d0680caf6654efd320872549cf8bf to .\\data\\model driver data\\reservoir_io_sntemp.csv\n",
      "downloading https://www.sciencebase.gov/catalog/file/get/624f21b9d34e21f82769a7ab?f=__disk__b0%2F6f%2Fac%2Fb06fac83cf4620a56230dfd1f5008f44f43dcb3b to .\\data\\model driver data\\NLDAS_time[0.377900]_x[401]_y[136].csv\n",
      "downloading https://www.sciencebase.gov/catalog/file/get/624f21b9d34e21f82769a7ab?f=__disk__18%2F41%2F11%2F18411175e21a123ef8e564092ec7eb4e8606d218 to .\\data\\model driver data\\NLDAS_time[0.377900]_x[397]_y[136].csv\n",
      "downloading https://www.sciencebase.gov/catalog/file/get/624f21b9d34e21f82769a7ab?f=__disk__24%2Ff4%2Fd4%2F24f4d47b51d14d49d6371285fe361173aea5edfa to .\\data\\model driver data\\noaagefs_meteo_driver_files.zip\n",
      "downloading https://www.sciencebase.gov/catalog/file/get/624f21b9d34e21f82769a7ab?f=__disk__74%2Fe1%2F8d%2F74e18d7319d1953225876914d1ee82e27fe9a4a7 to .\\data\\model driver data\\reservoir_io_obs.csv\n",
      "downloading https://www.sciencebase.gov/catalog/file/get/624f211ed34e21f82769a7a4?f=__disk__eb%2F5c%2F69%2Feb5c6987dc016aa95812248bc482cf4037ab814c to .\\data\\Waterbody information for 70 river reaches and 2 reservoirs\\01_spatial_fgdc_metadata.xml\n",
      "downloading https://www.sciencebase.gov/catalog/file/get/624f211ed34e21f82769a7a4?f=__disk__b8%2F31%2F3d%2Fb8313d1cbfce8d3300e66cb35887c19ff135d568 to .\\data\\Waterbody information for 70 river reaches and 2 reservoirs\\study_stream_reaches.zip\n",
      "downloading https://www.sciencebase.gov/catalog/file/get/624f211ed34e21f82769a7a4?f=__disk__10%2F3b%2Ff0%2F103bf0ce4d6abd05d9ea52f39f1258198ff6f218 to .\\data\\Waterbody information for 70 river reaches and 2 reservoirs\\study_reservoirs.zip\n",
      "downloading https://www.sciencebase.gov/catalog/file/get/624f21ddd34e21f82769a7af?f=__disk__4a%2F97%2F1a%2F4a971a71eca56466ea3007191d88c6b7b1d2ce68 to .\\data\\model configurations\\reservoir_nml_values.json\n",
      "downloading https://www.sciencebase.gov/catalog/file/get/624f21ddd34e21f82769a7af?f=__disk__75%2F5b%2F0f%2F755b0fa487fd15784302e356148d6553ac7f6cfb to .\\data\\model configurations\\reservoir_nml_files.zip\n",
      "downloading https://www.sciencebase.gov/catalog/file/get/624f21ddd34e21f82769a7af?f=__disk__af%2Fe1%2F2c%2Fafe12cf579dfd6a6bcbc081b71455190575597ec to .\\data\\model configurations\\03_config_fgdc_metadata.xml\n",
      "downloading https://www.sciencebase.gov/catalog/file/get/624f21fad34e21f82769a7b1?f=__disk__02%2Fdc%2Fd3%2F02dcd37a2554c57d356142f00101b1572529f723 to .\\data\\model predictions\\04_predictions_fgdc_metadata.xml\n",
      "downloading https://www.sciencebase.gov/catalog/file/get/624f21fad34e21f82769a7b1?f=__disk__17%2F35%2F3c%2F17353c114ccdd7ced15690b2396ef0a38285d051 to .\\data\\model predictions\\paired_predicted_observed_temperatures.csv\n",
      "downloading https://www.sciencebase.gov/catalog/file/get/624f21fad34e21f82769a7b1?f=__disk__de%2F52%2F87%2Fde5287776d8934c94eaf38d393b60d5cb8b17c29 to .\\data\\model predictions\\reservoir_downstream_preds.csv\n",
      "downloading https://www.sciencebase.gov/catalog/file/get/624f21fad34e21f82769a7b1?f=__disk__0b%2F29%2F30%2F0b2930cae553d45cdc7e24bb1199b3e68f66a184 to .\\data\\model predictions\\forecast_pgdl_da_outputs.zip\n",
      "downloading https://www.sciencebase.gov/catalog/file/get/624f21fad34e21f82769a7b1?f=__disk__63%2F3d%2F8e%2F633d8e3baa048131b218287324ceaafa3b2f5e9d to .\\data\\model predictions\\dwallin_stream_preds.csv.zip\n",
      "downloading https://www.sciencebase.gov/catalog/file/get/624f21fad34e21f82769a7b1?f=__disk__4b%2Fe1%2Fbe%2F4be1beb59827286e456f530634f4eeef4f446664 to .\\data\\model predictions\\all_mods_with_obs.rds\n",
      "downloading https://www.sciencebase.gov/catalog/file/get/624f21fad34e21f82769a7b1?f=__disk__61%2Fc8%2F0a%2F61c80aa4eb9b697cfabaf7af363c1c92ffadb4a5 to .\\data\\model predictions\\dwallin_stream_preds.csv\n",
      "downloading https://www.sciencebase.gov/catalog/file/get/624f21fad34e21f82769a7b1?f=__disk__87%2F47%2F0f%2F87470fbcaff15d0caf59d13229f813c4fc91bce6 to .\\data\\model predictions\\reservoir_io_sntemp.csv\n"
     ]
    }
   ],
   "source": [
    "for item_id in child_ids:\n",
    "    item_json=sb.get_item(item_id)\n",
    "    title = item_json['title'].split(') ')[1]\n",
    "    sub_data_dir = os.path.join('.', 'data', title)\n",
    "    os.makedirs(sub_data_dir, exist_ok=True)\n",
    "    sb.get_item_files(item_json, sub_data_dir)"
   ]
  },
  {
   "cell_type": "markdown",
   "metadata": {},
   "source": [
    "Unzip all data folders"
   ]
  },
  {
   "cell_type": "code",
   "execution_count": 9,
   "metadata": {},
   "outputs": [
    {
     "name": "stdout",
     "output_type": "stream",
     "text": [
      "unpacking Model Driver Data\n",
      "unzipping gridmet_drb_agg.csv.zip\n",
      "unzipping gridmet_drb_agg.nc.zip\n",
      "unzipping reanalysis_gefs_drb.csv.zip\n",
      "unzipping reanalysis_gefs_fy22.csv.zip\n",
      "unzipping uncal_sntemp_input_output.nc.zip\n",
      "unpacking River and Reservoir Observations\n",
      "unzipping aggregated_temperature_observations_drb.zip\n",
      "unzipping flow_observations_drb.zip\n",
      "unzipping unaggregated_temperature_observations_drb.zip\n",
      "unpacking Spatial data for rivers, reservoirs, and monitoring locations\n",
      "unzipping study_monitoring_sites.zip\n",
      "unzipping study_reservoirs.zip\n",
      "unzipping study_stream_reaches.zip\n"
     ]
    }
   ],
   "source": [
    "for folder in os.listdir(data_dir):\n",
    "    full_dir = os.path.join(data_dir, folder)\n",
    "    if os.path.isdir(full_dir):\n",
    "        print(f'unpacking {folder}')\n",
    "        for item in os.listdir(full_dir):\n",
    "            if item.endswith('.zip'):\n",
    "                print(f'unzipping {item}')\n",
    "                file_name = os.path.join(full_dir, item) # get full path of files\n",
    "                zip_ref = zipfile.ZipFile(file_name) # create zipfile object\n",
    "                fol = os.path.splitext(file_name)[0]\n",
    "                os.makedirs(fol, exist_ok=True)\n",
    "                zip_ref.extractall(fol) # extract file to dir\n",
    "                zip_ref.close() # close file\n",
    "                #os.remove(file_name)"
   ]
  },
  {
   "cell_type": "code",
   "execution_count": null,
   "metadata": {},
   "outputs": [],
   "source": []
  }
 ],
 "metadata": {
  "interpreter": {
   "hash": "d290d317f6ce478b13d991c1f94abcffdc980cdfcad71ce0288c8043514bbe5c"
  },
  "kernelspec": {
   "display_name": "Python 3.8.12 ('geopy38')",
   "language": "python",
   "name": "python3"
  },
  "language_info": {
   "codemirror_mode": {
    "name": "ipython",
    "version": 3
   },
   "file_extension": ".py",
   "mimetype": "text/x-python",
   "name": "python",
   "nbconvert_exporter": "python",
   "pygments_lexer": "ipython3",
   "version": "3.8.12"
  },
  "orig_nbformat": 4
 },
 "nbformat": 4,
 "nbformat_minor": 2
}
